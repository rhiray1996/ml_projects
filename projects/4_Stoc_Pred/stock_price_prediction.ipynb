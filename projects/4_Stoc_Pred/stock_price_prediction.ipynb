{
 "cells": [
  {
   "cell_type": "code",
   "execution_count": 1,
   "metadata": {},
   "outputs": [],
   "source": [
    "# IMPORTING IMPORTANT LIBRARIES\n",
    "import pandas as pd\n",
    "import matplotlib.pyplot as plt\n",
    "import numpy as np \n",
    "import math\n",
    "from sklearn.preprocessing import MinMaxScaler\n",
    "from sklearn.metrics import mean_squared_error\n",
    "from keras.models import Sequential\n",
    "from keras.layers import Dense, Activation\n",
    "from keras.layers import LSTM\n",
    "import preprocessing "
   ]
  },
  {
   "cell_type": "code",
   "execution_count": 2,
   "metadata": {},
   "outputs": [],
   "source": [
    "# FOR REPRODUCIBILITY\n",
    "np.random.seed(7)"
   ]
  },
  {
   "cell_type": "code",
   "execution_count": 3,
   "metadata": {},
   "outputs": [],
   "source": [
    "# IMPORTING DATASET \n",
    "dataset = pd.read_csv('input//apple_share_price.csv', usecols=[1,2,3,4])\n",
    "dataset = dataset.reindex(index = dataset.index[::-1])"
   ]
  },
  {
   "cell_type": "markdown",
   "metadata": {},
   "source": []
  },
  {
   "cell_type": "code",
   "execution_count": 4,
   "metadata": {},
   "outputs": [],
   "source": [
    "# CREATING OWN INDEX FOR FLEXIBILITY\n",
    "obs = np.arange(1, len(dataset) + 1, 1)"
   ]
  },
  {
   "cell_type": "code",
   "execution_count": 5,
   "metadata": {},
   "outputs": [
    {
     "data": {
      "image/png": "[encoded data removed]",
      "text/plain": [
       "<Figure size 432x288 with 1 Axes>"
      ]
     },
     "metadata": {
      "needs_background": "light"
     },
     "output_type": "display_data"
    }
   ],
   "source": [
    "# TAKING DIFFERENT INDICATORS FOR PREDICTION\n",
    "OHLC_avg = dataset.mean(axis = 1)\n",
    "HLC_avg = dataset[['High', 'Low', 'Close']].mean(axis = 1)\n",
    "close_val = dataset[['Close']]\n",
    "\n",
    "# PLOTTING ALL INDICATORS IN ONE PLOT\n",
    "plt.plot(obs, OHLC_avg, 'r', label = 'OHLC avg')\n",
    "plt.plot(obs, HLC_avg, 'b', label = 'HLC avg')\n",
    "plt.plot(obs, close_val, 'g', label = 'Closing price')\n",
    "plt.legend(loc = 'upper right')\n",
    "plt.show()"
   ]
  },
  {
   "cell_type": "code",
   "execution_count": 6,
   "metadata": {},
   "outputs": [],
   "source": [
    "# PREPARATION OF TIME SERIES DATASE\n",
    "OHLC_avg = np.reshape(OHLC_avg.values, (len(OHLC_avg),1)) # 1664\n",
    "scaler = MinMaxScaler(feature_range=(0, 1))\n",
    "OHLC_avg = scaler.fit_transform(OHLC_avg)"
   ]
  },
  {
   "cell_type": "code",
   "execution_count": 7,
   "metadata": {},
   "outputs": [],
   "source": [
    "# TRAIN-TEST SPLIT\n",
    "train_OHLC = int(len(OHLC_avg) * 0.75)\n",
    "test_OHLC = len(OHLC_avg) - train_OHLC\n",
    "train_OHLC, test_OHLC = OHLC_avg[0:train_OHLC,:], OHLC_avg[train_OHLC:len(OHLC_avg),:]"
   ]
  },
  {
   "cell_type": "code",
   "execution_count": 8,
   "metadata": {},
   "outputs": [],
   "source": [
    "# TIME-SERIES DATASET (FOR TIME T, VALUES FOR TIME T+1)\n",
    "trainX, trainY = preprocessing.new_dataset(train_OHLC, 1)\n",
    "testX, testY = preprocessing.new_dataset(test_OHLC, 1)"
   ]
  },
  {
   "cell_type": "code",
   "execution_count": 9,
   "metadata": {},
   "outputs": [],
   "source": [
    "# RESHAPING TRAIN AND TEST DATA\n",
    "trainX = np.reshape(trainX, (trainX.shape[0], 1, trainX.shape[1]))\n",
    "testX = np.reshape(testX, (testX.shape[0], 1, testX.shape[1]))\n",
    "step_size = 1"
   ]
  },
  {
   "cell_type": "code",
   "execution_count": 10,
   "metadata": {},
   "outputs": [],
   "source": [
    "# LSTM MODEL\n",
    "model = Sequential()\n",
    "model.add(LSTM(32, input_shape=(1, step_size), return_sequences = True))\n",
    "model.add(LSTM(16))\n",
    "model.add(Dense(1))\n",
    "model.add(Activation('linear'))"
   ]
  },
  {
   "cell_type": "code",
   "execution_count": 11,
   "metadata": {},
   "outputs": [
    {
     "name": "stdout",
     "output_type": "stream",
     "text": [
      "Epoch 1/150\n"
     ]
    },
    {
     "name": "stderr",
     "output_type": "stream",
     "text": [
      "2022-05-17 18:02:55.106055: W tensorflow/core/platform/profile_utils/cpu_utils.cc:128] Failed to get CPU frequency: 0 Hz\n"
     ]
    },
    {
     "name": "stdout",
     "output_type": "stream",
     "text": [
      "1246/1246 - 2s - loss: 0.1092 - 2s/epoch - 2ms/step\n",
      "Epoch 2/150\n",
      "1246/1246 - 1s - loss: 0.0788 - 670ms/epoch - 538us/step\n",
      "Epoch 3/150\n",
      "1246/1246 - 1s - loss: 0.0642 - 665ms/epoch - 534us/step\n",
      "Epoch 4/150\n",
      "1246/1246 - 1s - loss: 0.0554 - 732ms/epoch - 587us/step\n",
      "Epoch 5/150\n",
      "1246/1246 - 1s - loss: 0.0498 - 706ms/epoch - 567us/step\n",
      "Epoch 6/150\n",
      "1246/1246 - 1s - loss: 0.0461 - 695ms/epoch - 558us/step\n",
      "Epoch 7/150\n",
      "1246/1246 - 1s - loss: 0.0436 - 692ms/epoch - 555us/step\n",
      "Epoch 8/150\n",
      "1246/1246 - 1s - loss: 0.0420 - 683ms/epoch - 548us/step\n",
      "Epoch 9/150\n",
      "1246/1246 - 1s - loss: 0.0408 - 732ms/epoch - 588us/step\n",
      "Epoch 10/150\n",
      "1246/1246 - 1s - loss: 0.0399 - 682ms/epoch - 547us/step\n",
      "Epoch 11/150\n",
      "1246/1246 - 1s - loss: 0.0391 - 668ms/epoch - 536us/step\n",
      "Epoch 12/150\n",
      "1246/1246 - 1s - loss: 0.0385 - 660ms/epoch - 530us/step\n",
      "Epoch 13/150\n",
      "1246/1246 - 1s - loss: 0.0380 - 740ms/epoch - 594us/step\n",
      "Epoch 14/150\n",
      "1246/1246 - 1s - loss: 0.0376 - 717ms/epoch - 576us/step\n",
      "Epoch 15/150\n",
      "1246/1246 - 1s - loss: 0.0371 - 667ms/epoch - 535us/step\n",
      "Epoch 16/150\n",
      "1246/1246 - 1s - loss: 0.0367 - 699ms/epoch - 561us/step\n",
      "Epoch 17/150\n",
      "1246/1246 - 1s - loss: 0.0363 - 694ms/epoch - 557us/step\n",
      "Epoch 18/150\n",
      "1246/1246 - 1s - loss: 0.0359 - 714ms/epoch - 573us/step\n",
      "Epoch 19/150\n",
      "1246/1246 - 1s - loss: 0.0356 - 696ms/epoch - 559us/step\n",
      "Epoch 20/150\n",
      "1246/1246 - 1s - loss: 0.0352 - 675ms/epoch - 542us/step\n",
      "Epoch 21/150\n",
      "1246/1246 - 1s - loss: 0.0348 - 702ms/epoch - 564us/step\n",
      "Epoch 22/150\n",
      "1246/1246 - 1s - loss: 0.0344 - 703ms/epoch - 564us/step\n",
      "Epoch 23/150\n",
      "1246/1246 - 1s - loss: 0.0341 - 715ms/epoch - 574us/step\n",
      "Epoch 24/150\n",
      "1246/1246 - 1s - loss: 0.0337 - 687ms/epoch - 552us/step\n",
      "Epoch 25/150\n",
      "1246/1246 - 1s - loss: 0.0333 - 677ms/epoch - 543us/step\n",
      "Epoch 26/150\n",
      "1246/1246 - 1s - loss: 0.0330 - 664ms/epoch - 533us/step\n",
      "Epoch 27/150\n",
      "1246/1246 - 1s - loss: 0.0326 - 678ms/epoch - 544us/step\n",
      "Epoch 28/150\n",
      "1246/1246 - 1s - loss: 0.0322 - 707ms/epoch - 567us/step\n",
      "Epoch 29/150\n",
      "1246/1246 - 1s - loss: 0.0319 - 695ms/epoch - 558us/step\n",
      "Epoch 30/150\n",
      "1246/1246 - 1s - loss: 0.0315 - 713ms/epoch - 572us/step\n",
      "Epoch 31/150\n",
      "1246/1246 - 1s - loss: 0.0311 - 684ms/epoch - 549us/step\n",
      "Epoch 32/150\n",
      "1246/1246 - 1s - loss: 0.0307 - 705ms/epoch - 566us/step\n",
      "Epoch 33/150\n",
      "1246/1246 - 1s - loss: 0.0304 - 673ms/epoch - 540us/step\n",
      "Epoch 34/150\n",
      "1246/1246 - 1s - loss: 0.0300 - 678ms/epoch - 544us/step\n",
      "Epoch 35/150\n",
      "1246/1246 - 1s - loss: 0.0296 - 687ms/epoch - 552us/step\n",
      "Epoch 36/150\n",
      "1246/1246 - 1s - loss: 0.0292 - 677ms/epoch - 543us/step\n",
      "Epoch 37/150\n",
      "1246/1246 - 1s - loss: 0.0289 - 771ms/epoch - 619us/step\n",
      "Epoch 38/150\n",
      "1246/1246 - 1s - loss: 0.0285 - 757ms/epoch - 607us/step\n",
      "Epoch 39/150\n",
      "1246/1246 - 1s - loss: 0.0281 - 679ms/epoch - 545us/step\n",
      "Epoch 40/150\n",
      "1246/1246 - 1s - loss: 0.0277 - 733ms/epoch - 588us/step\n",
      "Epoch 41/150\n",
      "1246/1246 - 1s - loss: 0.0274 - 717ms/epoch - 575us/step\n",
      "Epoch 42/150\n",
      "1246/1246 - 1s - loss: 0.0270 - 734ms/epoch - 589us/step\n",
      "Epoch 43/150\n",
      "1246/1246 - 1s - loss: 0.0266 - 670ms/epoch - 538us/step\n",
      "Epoch 44/150\n",
      "1246/1246 - 1s - loss: 0.0262 - 665ms/epoch - 534us/step\n",
      "Epoch 45/150\n",
      "1246/1246 - 1s - loss: 0.0258 - 664ms/epoch - 533us/step\n",
      "Epoch 46/150\n",
      "1246/1246 - 1s - loss: 0.0254 - 710ms/epoch - 570us/step\n",
      "Epoch 47/150\n",
      "1246/1246 - 1s - loss: 0.0251 - 746ms/epoch - 599us/step\n",
      "Epoch 48/150\n",
      "1246/1246 - 1s - loss: 0.0247 - 683ms/epoch - 548us/step\n",
      "Epoch 49/150\n",
      "1246/1246 - 1s - loss: 0.0243 - 672ms/epoch - 539us/step\n",
      "Epoch 50/150\n",
      "1246/1246 - 1s - loss: 0.0239 - 664ms/epoch - 533us/step\n",
      "Epoch 51/150\n",
      "1246/1246 - 1s - loss: 0.0235 - 665ms/epoch - 534us/step\n",
      "Epoch 52/150\n",
      "1246/1246 - 1s - loss: 0.0232 - 669ms/epoch - 537us/step\n",
      "Epoch 53/150\n",
      "1246/1246 - 1s - loss: 0.0228 - 660ms/epoch - 530us/step\n",
      "Epoch 54/150\n",
      "1246/1246 - 1s - loss: 0.0224 - 663ms/epoch - 532us/step\n",
      "Epoch 55/150\n",
      "1246/1246 - 1s - loss: 0.0220 - 666ms/epoch - 534us/step\n",
      "Epoch 56/150\n",
      "1246/1246 - 1s - loss: 0.0216 - 664ms/epoch - 533us/step\n",
      "Epoch 57/150\n",
      "1246/1246 - 1s - loss: 0.0212 - 664ms/epoch - 533us/step\n",
      "Epoch 58/150\n",
      "1246/1246 - 1s - loss: 0.0209 - 668ms/epoch - 536us/step\n",
      "Epoch 59/150\n",
      "1246/1246 - 1s - loss: 0.0205 - 663ms/epoch - 532us/step\n",
      "Epoch 60/150\n",
      "1246/1246 - 1s - loss: 0.0201 - 663ms/epoch - 532us/step\n",
      "Epoch 61/150\n",
      "1246/1246 - 1s - loss: 0.0197 - 669ms/epoch - 537us/step\n",
      "Epoch 62/150\n",
      "1246/1246 - 1s - loss: 0.0194 - 663ms/epoch - 532us/step\n",
      "Epoch 63/150\n",
      "1246/1246 - 1s - loss: 0.0190 - 663ms/epoch - 532us/step\n",
      "Epoch 64/150\n",
      "1246/1246 - 1s - loss: 0.0186 - 668ms/epoch - 536us/step\n",
      "Epoch 65/150\n",
      "1246/1246 - 1s - loss: 0.0182 - 662ms/epoch - 531us/step\n",
      "Epoch 66/150\n",
      "1246/1246 - 1s - loss: 0.0179 - 663ms/epoch - 532us/step\n",
      "Epoch 67/150\n",
      "1246/1246 - 1s - loss: 0.0175 - 663ms/epoch - 532us/step\n",
      "Epoch 68/150\n",
      "1246/1246 - 1s - loss: 0.0171 - 673ms/epoch - 540us/step\n",
      "Epoch 69/150\n",
      "1246/1246 - 1s - loss: 0.0168 - 711ms/epoch - 571us/step\n",
      "Epoch 70/150\n",
      "1246/1246 - 1s - loss: 0.0164 - 734ms/epoch - 589us/step\n",
      "Epoch 71/150\n",
      "1246/1246 - 1s - loss: 0.0160 - 691ms/epoch - 555us/step\n",
      "Epoch 72/150\n",
      "1246/1246 - 1s - loss: 0.0157 - 656ms/epoch - 527us/step\n",
      "Epoch 73/150\n",
      "1246/1246 - 1s - loss: 0.0153 - 658ms/epoch - 528us/step\n",
      "Epoch 74/150\n",
      "1246/1246 - 1s - loss: 0.0150 - 671ms/epoch - 539us/step\n",
      "Epoch 75/150\n",
      "1246/1246 - 1s - loss: 0.0146 - 660ms/epoch - 530us/step\n",
      "Epoch 76/150\n",
      "1246/1246 - 1s - loss: 0.0143 - 664ms/epoch - 533us/step\n",
      "Epoch 77/150\n",
      "1246/1246 - 1s - loss: 0.0139 - 664ms/epoch - 533us/step\n",
      "Epoch 78/150\n",
      "1246/1246 - 1s - loss: 0.0136 - 681ms/epoch - 547us/step\n",
      "Epoch 79/150\n",
      "1246/1246 - 1s - loss: 0.0132 - 706ms/epoch - 567us/step\n",
      "Epoch 80/150\n",
      "1246/1246 - 1s - loss: 0.0129 - 677ms/epoch - 543us/step\n",
      "Epoch 81/150\n",
      "1246/1246 - 1s - loss: 0.0126 - 661ms/epoch - 530us/step\n",
      "Epoch 82/150\n",
      "1246/1246 - 1s - loss: 0.0122 - 660ms/epoch - 530us/step\n",
      "Epoch 83/150\n",
      "1246/1246 - 1s - loss: 0.0119 - 661ms/epoch - 530us/step\n",
      "Epoch 84/150\n",
      "1246/1246 - 1s - loss: 0.0116 - 660ms/epoch - 530us/step\n",
      "Epoch 85/150\n",
      "1246/1246 - 1s - loss: 0.0113 - 659ms/epoch - 529us/step\n",
      "Epoch 86/150\n",
      "1246/1246 - 1s - loss: 0.0110 - 663ms/epoch - 532us/step\n",
      "Epoch 87/150\n",
      "1246/1246 - 1s - loss: 0.0106 - 660ms/epoch - 530us/step\n",
      "Epoch 88/150\n",
      "1246/1246 - 1s - loss: 0.0103 - 659ms/epoch - 529us/step\n",
      "Epoch 89/150\n",
      "1246/1246 - 1s - loss: 0.0100 - 664ms/epoch - 533us/step\n",
      "Epoch 90/150\n",
      "1246/1246 - 1s - loss: 0.0097 - 660ms/epoch - 530us/step\n",
      "Epoch 91/150\n",
      "1246/1246 - 1s - loss: 0.0094 - 658ms/epoch - 528us/step\n",
      "Epoch 92/150\n",
      "1246/1246 - 1s - loss: 0.0092 - 666ms/epoch - 535us/step\n",
      "Epoch 93/150\n",
      "1246/1246 - 1s - loss: 0.0089 - 660ms/epoch - 529us/step\n",
      "Epoch 94/150\n",
      "1246/1246 - 1s - loss: 0.0086 - 659ms/epoch - 529us/step\n",
      "Epoch 95/150\n",
      "1246/1246 - 1s - loss: 0.0083 - 665ms/epoch - 534us/step\n",
      "Epoch 96/150\n",
      "1246/1246 - 1s - loss: 0.0081 - 660ms/epoch - 530us/step\n",
      "Epoch 97/150\n",
      "1246/1246 - 1s - loss: 0.0078 - 659ms/epoch - 529us/step\n",
      "Epoch 98/150\n",
      "1246/1246 - 1s - loss: 0.0075 - 666ms/epoch - 535us/step\n",
      "Epoch 99/150\n",
      "1246/1246 - 1s - loss: 0.0073 - 659ms/epoch - 529us/step\n",
      "Epoch 100/150\n",
      "1246/1246 - 1s - loss: 0.0070 - 658ms/epoch - 528us/step\n",
      "Epoch 101/150\n",
      "1246/1246 - 1s - loss: 0.0068 - 665ms/epoch - 534us/step\n",
      "Epoch 102/150\n",
      "1246/1246 - 1s - loss: 0.0066 - 660ms/epoch - 530us/step\n",
      "Epoch 103/150\n",
      "1246/1246 - 1s - loss: 0.0063 - 663ms/epoch - 532us/step\n",
      "Epoch 104/150\n",
      "1246/1246 - 1s - loss: 0.0061 - 663ms/epoch - 532us/step\n",
      "Epoch 105/150\n",
      "1246/1246 - 1s - loss: 0.0059 - 662ms/epoch - 531us/step\n",
      "Epoch 106/150\n",
      "1246/1246 - 1s - loss: 0.0057 - 662ms/epoch - 531us/step\n",
      "Epoch 107/150\n",
      "1246/1246 - 1s - loss: 0.0054 - 660ms/epoch - 530us/step\n",
      "Epoch 108/150\n",
      "1246/1246 - 1s - loss: 0.0052 - 665ms/epoch - 534us/step\n",
      "Epoch 109/150\n",
      "1246/1246 - 1s - loss: 0.0050 - 657ms/epoch - 527us/step\n",
      "Epoch 110/150\n",
      "1246/1246 - 1s - loss: 0.0048 - 659ms/epoch - 529us/step\n",
      "Epoch 111/150\n",
      "1246/1246 - 1s - loss: 0.0047 - 666ms/epoch - 535us/step\n",
      "Epoch 112/150\n",
      "1246/1246 - 1s - loss: 0.0045 - 662ms/epoch - 531us/step\n",
      "Epoch 113/150\n",
      "1246/1246 - 1s - loss: 0.0043 - 659ms/epoch - 529us/step\n",
      "Epoch 114/150\n",
      "1246/1246 - 1s - loss: 0.0041 - 664ms/epoch - 533us/step\n",
      "Epoch 115/150\n",
      "1246/1246 - 1s - loss: 0.0040 - 661ms/epoch - 531us/step\n",
      "Epoch 116/150\n",
      "1246/1246 - 1s - loss: 0.0038 - 659ms/epoch - 529us/step\n",
      "Epoch 117/150\n",
      "1246/1246 - 1s - loss: 0.0036 - 668ms/epoch - 536us/step\n",
      "Epoch 118/150\n",
      "1246/1246 - 1s - loss: 0.0035 - 660ms/epoch - 529us/step\n",
      "Epoch 119/150\n",
      "1246/1246 - 1s - loss: 0.0033 - 661ms/epoch - 531us/step\n",
      "Epoch 120/150\n",
      "1246/1246 - 1s - loss: 0.0032 - 663ms/epoch - 532us/step\n",
      "Epoch 121/150\n",
      "1246/1246 - 1s - loss: 0.0031 - 660ms/epoch - 530us/step\n",
      "Epoch 122/150\n",
      "1246/1246 - 1s - loss: 0.0029 - 663ms/epoch - 532us/step\n",
      "Epoch 123/150\n",
      "1246/1246 - 1s - loss: 0.0028 - 712ms/epoch - 571us/step\n",
      "Epoch 124/150\n",
      "1246/1246 - 1s - loss: 0.0027 - 693ms/epoch - 556us/step\n",
      "Epoch 125/150\n",
      "1246/1246 - 1s - loss: 0.0026 - 660ms/epoch - 529us/step\n",
      "Epoch 126/150\n",
      "1246/1246 - 1s - loss: 0.0024 - 667ms/epoch - 535us/step\n",
      "Epoch 127/150\n",
      "1246/1246 - 1s - loss: 0.0023 - 692ms/epoch - 555us/step\n",
      "Epoch 128/150\n",
      "1246/1246 - 1s - loss: 0.0022 - 671ms/epoch - 539us/step\n",
      "Epoch 129/150\n",
      "1246/1246 - 1s - loss: 0.0021 - 704ms/epoch - 565us/step\n",
      "Epoch 130/150\n",
      "1246/1246 - 1s - loss: 0.0020 - 665ms/epoch - 534us/step\n",
      "Epoch 131/150\n",
      "1246/1246 - 1s - loss: 0.0019 - 660ms/epoch - 529us/step\n",
      "Epoch 132/150\n",
      "1246/1246 - 1s - loss: 0.0018 - 708ms/epoch - 568us/step\n",
      "Epoch 133/150\n",
      "1246/1246 - 1s - loss: 0.0018 - 662ms/epoch - 531us/step\n",
      "Epoch 134/150\n",
      "1246/1246 - 1s - loss: 0.0017 - 658ms/epoch - 528us/step\n",
      "Epoch 135/150\n",
      "1246/1246 - 1s - loss: 0.0016 - 682ms/epoch - 547us/step\n",
      "Epoch 136/150\n",
      "1246/1246 - 1s - loss: 0.0015 - 674ms/epoch - 541us/step\n",
      "Epoch 137/150\n",
      "1246/1246 - 1s - loss: 0.0014 - 678ms/epoch - 544us/step\n",
      "Epoch 138/150\n",
      "1246/1246 - 1s - loss: 0.0014 - 664ms/epoch - 533us/step\n",
      "Epoch 139/150\n",
      "1246/1246 - 1s - loss: 0.0013 - 656ms/epoch - 527us/step\n",
      "Epoch 140/150\n",
      "1246/1246 - 1s - loss: 0.0012 - 665ms/epoch - 534us/step\n",
      "Epoch 141/150\n",
      "1246/1246 - 1s - loss: 0.0012 - 659ms/epoch - 529us/step\n",
      "Epoch 142/150\n",
      "1246/1246 - 1s - loss: 0.0011 - 662ms/epoch - 531us/step\n",
      "Epoch 143/150\n",
      "1246/1246 - 1s - loss: 0.0011 - 658ms/epoch - 528us/step\n",
      "Epoch 144/150\n",
      "1246/1246 - 1s - loss: 0.0010 - 659ms/epoch - 529us/step\n",
      "Epoch 145/150\n",
      "1246/1246 - 1s - loss: 9.7394e-04 - 667ms/epoch - 535us/step\n",
      "Epoch 146/150\n",
      "1246/1246 - 1s - loss: 9.2689e-04 - 781ms/epoch - 627us/step\n",
      "Epoch 147/150\n",
      "1246/1246 - 1s - loss: 8.8214e-04 - 719ms/epoch - 577us/step\n",
      "Epoch 148/150\n",
      "1246/1246 - 1s - loss: 8.3963e-04 - 726ms/epoch - 583us/step\n",
      "Epoch 149/150\n",
      "1246/1246 - 1s - loss: 7.9922e-04 - 746ms/epoch - 599us/step\n",
      "Epoch 150/150\n",
      "1246/1246 - 1s - loss: 7.6090e-04 - 775ms/epoch - 622us/step\n"
     ]
    },
    {
     "data": {
      "text/plain": [
       "<keras.callbacks.History at 0x288551eb0>"
      ]
     },
     "execution_count": 11,
     "metadata": {},
     "output_type": "execute_result"
    }
   ],
   "source": [
    "# MODEL COMPILING AND TRAINING\n",
    "model.compile(loss='mean_squared_error', optimizer='adagrad') # Try SGD, adam, adagrad and compare!!!\n",
    "model.fit(trainX, trainY, epochs=150, batch_size=1, verbose=2)"
   ]
  },
  {
   "cell_type": "code",
   "execution_count": 12,
   "metadata": {},
   "outputs": [],
   "source": [
    "# PREDICTION\n",
    "trainPredict = model.predict(trainX)\n",
    "testPredict = model.predict(testX)"
   ]
  },
  {
   "cell_type": "code",
   "execution_count": 13,
   "metadata": {},
   "outputs": [],
   "source": [
    "# DE-NORMALIZING FOR PLOTTING\n",
    "trainPredict = scaler.inverse_transform(trainPredict)\n",
    "trainY = scaler.inverse_transform([trainY])\n",
    "testPredict = scaler.inverse_transform(testPredict)\n",
    "testY = scaler.inverse_transform([testY])"
   ]
  },
  {
   "cell_type": "code",
   "execution_count": 14,
   "metadata": {},
   "outputs": [
    {
     "name": "stdout",
     "output_type": "stream",
     "text": [
      "Train RMSE: 3.14\n",
      "Test RMSE: 4.74\n"
     ]
    }
   ],
   "source": [
    "# TRAINING RMSE\n",
    "trainScore = math.sqrt(mean_squared_error(trainY[0], trainPredict[:,0]))\n",
    "print('Train RMSE: %.2f' % (trainScore))\n",
    "\n",
    "# TEST RMSE\n",
    "testScore = math.sqrt(mean_squared_error(testY[0], testPredict[:,0]))\n",
    "print('Test RMSE: %.2f' % (testScore))"
   ]
  },
  {
   "cell_type": "code",
   "execution_count": 15,
   "metadata": {},
   "outputs": [],
   "source": [
    "# CREATING SIMILAR DATASET TO PLOT TRAINING PREDICTIONS\n",
    "trainPredictPlot = np.empty_like(OHLC_avg)\n",
    "trainPredictPlot[:, :] = np.nan\n",
    "trainPredictPlot[step_size:len(trainPredict)+step_size, :] = trainPredict"
   ]
  },
  {
   "cell_type": "code",
   "execution_count": 16,
   "metadata": {},
   "outputs": [],
   "source": [
    "# CREATING SIMILAR DATASSET TO PLOT TEST PREDICTIONS\n",
    "testPredictPlot = np.empty_like(OHLC_avg)\n",
    "testPredictPlot[:, :] = np.nan\n",
    "testPredictPlot[len(trainPredict)+(step_size*2)+1:len(OHLC_avg)-1, :] = testPredict\n",
    "\n",
    "# DE-NORMALIZING MAIN DATASET \n",
    "OHLC_avg = scaler.inverse_transform(OHLC_avg)"
   ]
  },
  {
   "cell_type": "code",
   "execution_count": 17,
   "metadata": {},
   "outputs": [
    {
     "data": {
      "image/png": "[encoded data removed]",
      "text/plain": [
       "<Figure size 432x288 with 1 Axes>"
      ]
     },
     "metadata": {
      "needs_background": "light"
     },
     "output_type": "display_data"
    }
   ],
   "source": [
    "# PLOT OF MAIN OHLC VALUES, TRAIN PREDICTIONS AND TEST PREDICTIONS\n",
    "plt.plot(OHLC_avg, 'g', label = 'original dataset')\n",
    "plt.plot(trainPredictPlot, 'r', label = 'training set')\n",
    "plt.plot(testPredictPlot, 'b', label = 'predicted stock price/test set')\n",
    "plt.legend(loc = 'upper right')\n",
    "plt.xlabel('Time in Days')\n",
    "plt.ylabel('OHLC Value of Apple Stocks')\n",
    "plt.show()"
   ]
  },
  {
   "cell_type": "code",
   "execution_count": 18,
   "metadata": {},
   "outputs": [
    {
     "name": "stdout",
     "output_type": "stream",
     "text": [
      "Last Day Value: 150.2447967529297\n",
      "Next Day Value: 137.28697204589844\n"
     ]
    },
    {
     "name": "stderr",
     "output_type": "stream",
     "text": [
      "/var/folders/n6/_xz71h9d59l3nqv8qtwzz1lm0000gn/T/ipykernel_5230/51515364.py:5: DeprecationWarning: np.asscalar(a) is deprecated since NumPy v1.16, use a.item() instead\n",
      "  print (\"Last Day Value:\", np.asscalar(last_val))\n",
      "/var/folders/n6/_xz71h9d59l3nqv8qtwzz1lm0000gn/T/ipykernel_5230/51515364.py:6: DeprecationWarning: np.asscalar(a) is deprecated since NumPy v1.16, use a.item() instead\n",
      "  print (\"Next Day Value:\", np.asscalar(last_val*next_val))\n"
     ]
    }
   ],
   "source": [
    "# PREDICT FUTURE VALUES\n",
    "last_val = testPredict[-1]\n",
    "last_val_scaled = last_val/last_val\n",
    "next_val = model.predict(np.reshape(last_val_scaled, (1,1,1)))\n",
    "print (\"Last Day Value:\", np.asscalar(last_val))\n",
    "print (\"Next Day Value:\", np.asscalar(last_val*next_val))\n",
    "# print np.append(last_val, next_val)"
   ]
  }
 ],
 "metadata": {
  "interpreter": {
   "hash": "0d3fed62e6222a7c0874f78829da5cdbeff1382f629f7e8476396ebc5b509efd"
  },
  "kernelspec": {
   "display_name": "Python 3.8.13",
   "language": "python",
   "name": "python3"
  },
  "language_info": {
   "codemirror_mode": {
    "name": "ipython",
    "version": 3
   },
   "file_extension": ".py",
   "mimetype": "text/x-python",
   "name": "python",
   "nbconvert_exporter": "python",
   "pygments_lexer": "ipython3",
   "version": "3.8.13"
  },
  "orig_nbformat": 4
 },
 "nbformat": 4,
 "nbformat_minor": 2
}
