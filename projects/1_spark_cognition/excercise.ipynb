{
 "cells": [
  {
   "cell_type": "markdown",
   "metadata": {},
   "source": [
    "# Exercise 1: Data Preparation and Preprocessing"
   ]
  },
  {
   "cell_type": "markdown",
   "metadata": {},
   "source": [
    "## Imports"
   ]
  },
  {
   "cell_type": "code",
   "execution_count": 27,
   "metadata": {},
   "outputs": [],
   "source": [
    "import pandas as pd\n",
    "import math\n",
    "import matplotlib.pyplot as plt\n",
    "%matplotlib inline "
   ]
  },
  {
   "cell_type": "markdown",
   "metadata": {},
   "source": [
    "## Data Loading"
   ]
  },
  {
   "cell_type": "code",
   "execution_count": 12,
   "metadata": {},
   "outputs": [],
   "source": [
    "demo_d = pd.read_csv(\"/Users/rhira/Repo/ml_projects/projects/1_spark_cognition/inputs/DEMO_D.csv\")\n",
    "bpx_d = pd.read_csv(\"/Users/rhira/Repo/ml_projects/projects/1_spark_cognition/inputs/BPX_D.csv\")\n",
    "tchol_d = pd.read_csv(\"/Users/rhira/Repo/ml_projects/projects/1_spark_cognition/inputs/TCHOL_D.csv\")"
   ]
  },
  {
   "cell_type": "code",
   "execution_count": 13,
   "metadata": {},
   "outputs": [],
   "source": [
    "demo_d = demo_d.fillna(0)"
   ]
  },
  {
   "cell_type": "code",
   "execution_count": 101,
   "metadata": {},
   "outputs": [],
   "source": [
    "\n",
    "def p_histogram(data):\n",
    "    fig, axes = plt.subplots(math.ceil(len(data.columns)/3), 3, figsize=(10, 6))\n",
    "    i = 0\n",
    "    for triaxis in axes:\n",
    "        for axis in triaxis:\n",
    "            if i < len(data.columns):\n",
    "                data.hist(column = data.columns[i], bins = 150, ax=axis, color='purple')\n",
    "                i = i+1"
   ]
  },
  {
   "cell_type": "code",
   "execution_count": 93,
   "metadata": {},
   "outputs": [],
   "source": [
    "\n",
    "def plt_data(data):\n",
    "    fig, axes = plt.subplots(math.ceil(len(data.columns)/3), 3, figsize=(30, 15))\n",
    "    \n",
    "    col_i = 0\n",
    "    for triaxis in axes:\n",
    "        for ax in triaxis:\n",
    "            if col_i < len(data.columns):\n",
    "                y1 = data[data.columns[col_i]]\n",
    "                x1 = [k for k in range(y1.count())]\n",
    "                ax.plot(x1, y1, color='purple')\n",
    "                ax.set_title('{}-{}'.format(data.columns[col_i],\"Seq\"))\n",
    "                ax.set_ylabel(data.columns[col_i])\n",
    "                ax.set_xlabel('Seq')\n",
    "                col_i += 1\n",
    " \n",
    "    # #display plot\n",
    "    # fig.tight_layout()\n",
    "    plt.subplots_adjust(left=0.1,\n",
    "                        bottom=0.1, \n",
    "                        right=0.9, \n",
    "                        top=0.9, \n",
    "                        wspace=0.4, \n",
    "                        hspace=0.4)\n",
    "    plt.show()"
   ]
  },
  {
   "cell_type": "code",
   "execution_count": null,
   "metadata": {},
   "outputs": [],
   "source": []
  }
 ],
 "metadata": {
  "kernelspec": {
   "display_name": "Python 3.10.4",
   "language": "python",
   "name": "python3"
  },
  "language_info": {
   "codemirror_mode": {
    "name": "ipython",
    "version": 3
   },
   "file_extension": ".py",
   "mimetype": "text/x-python",
   "name": "python",
   "nbconvert_exporter": "python",
   "pygments_lexer": "ipython3",
   "version": "3.10.4"
  },
  "orig_nbformat": 4,
  "vscode": {
   "interpreter": {
    "hash": "10523f94818339278abc1ddf3d7a3ad5958c7ef7e247cfe3fe7f9ef36ef69097"
   }
  }
 },
 "nbformat": 4,
 "nbformat_minor": 2
}
